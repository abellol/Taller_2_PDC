{
 "cells": [
  {
   "cell_type": "markdown",
   "metadata": {},
   "source": [
    "# 2."
   ]
  },
  {
   "cell_type": "code",
   "execution_count": null,
   "metadata": {},
   "outputs": [],
   "source": [
    "def separar_digitos(numero) -> list:\n",
    "    digitos = []\n",
    "    while numero > 0:\n",
    "        digito = numero % 10\n",
    "        digitos.insert(0, digito)  \n",
    "        numero = numero // 10\n",
    "    return digitos\n",
    "\n",
    "def parts(number:float) -> str:\n",
    "    integer = int(number)\n",
    "    decimal = number - integer\n",
    "    while decimal != int(decimal):\n",
    "        decimal *= 10\n",
    "    decimals = separar_digitos(int(decimal))\n",
    "    integers = separar_digitos(integer)\n",
    "    return f\"La parte entera es {integers} y la decimal es {decimals}\"\n",
    "\n",
    "if __name__ == \"__main__\":\n",
    "    try:\n",
    "        num = abs(float(input(\"ingrese un numero real:  \")))\n",
    "        digits = parts(num)\n",
    "        print(digits)\n",
    "    except ValueError:\n",
    "        print(\"no ha ingresado un numero real...\")"
   ]
  },
  {
   "cell_type": "markdown",
   "metadata": {},
   "source": [
    "# 4. "
   ]
  },
  {
   "cell_type": "code",
   "execution_count": null,
   "metadata": {},
   "outputs": [],
   "source": [
    "import math\n",
    "def cos_aproximada(x : float, n : int) -> float:\n",
    "    suma : float = 0\n",
    "    for i in range (0,n+1):\n",
    "        arg = 2 * i\n",
    "        num = (-1)**i *(x**(arg))\n",
    "        deno = 1\n",
    "        for j in range (1, arg + 1):\n",
    "            deno *= j\n",
    "        termino = num/ deno\n",
    "        suma += termino\n",
    "    return suma\n",
    "\n",
    "def margen_error(real : float, aprox : float) -> float:\n",
    "    if real == 0:\n",
    "        return 0\n",
    "    numerador = (abs(real - aprox))\n",
    "    denominador = real\n",
    "    error : float = numerador / denominador * 100\n",
    "    if denominador > 0:\n",
    "        return error\n",
    "    else:\n",
    "       return -error\n",
    "    \n",
    "def calcular_terminos(x:float, porcentaje_error:float) -> str:\n",
    "    real = math.cos(x)\n",
    "    i = 1\n",
    "    error = 100 # el error inicia en el 100%\n",
    "    while  error > porcentaje_error:\n",
    "        aprox = cos_aproximada(x, i)\n",
    "        error = margen_error(real, aprox)\n",
    "        i+=1\n",
    "    info = f\"\"\"\n",
    "\tEl valor estimado de la función cos({x}) = {aprox}\n",
    "\tEl valor real de la función cos({x}) = {real}\n",
    "\tAl sumar {i} términos de la serie, el error es del {error}% y es menor al {porcentaje_error}%\n",
    "\t\t\t\t\t\"\"\"\n",
    "    i+=1\n",
    "    return info\n",
    "    \n",
    "if __name__ == \"__main__\":   \n",
    "    try: \n",
    "        x = float(input(\"Ingrese un numero real para calcular la función:  \"))\n",
    "        porcentaje_errores = [10, 1, 0.1, 0.001]\n",
    "\n",
    "        for porcentaje_error in porcentaje_errores:\n",
    "            print(calcular_terminos(x, porcentaje_error))\n",
    "            \n",
    "    except ValueError:\n",
    "        print(\"no has ingresado un numero real...\")\n"
   ]
  },
  {
   "cell_type": "markdown",
   "metadata": {},
   "source": [
    "# 6."
   ]
  },
  {
   "cell_type": "code",
   "execution_count": null,
   "metadata": {},
   "outputs": [],
   "source": [
    "def elementos_repetidos(lista:list) -> bool:\n",
    "    x = 1\n",
    "    equal : bool = False\n",
    "    for n in lista:\n",
    "        for i in range(x, len(lista)):\n",
    "            if n == (lista[i]):\n",
    "                equal = True\n",
    "                break\n",
    "            else:\n",
    "                continue\n",
    "        x += 1\n",
    "    return equal\n",
    "\n",
    "if __name__ == \"__main__\": \n",
    "    try:\n",
    "        a : list = [1, 2, 3, 4, \"4\", \"c\"]\n",
    "        b : list = [5, 9, \"agua\", 9, \"g\", \"h\"]\n",
    "        ejemplo_1 = elementos_repetidos(a)\n",
    "        ejemplo_2 = elementos_repetidos(b)\n",
    "        print(ejemplo_1)\n",
    "        print(ejemplo_2)\n",
    "    except ValueError:\n",
    "        print(\"algun caracter ingresado no es valido...\")\n"
   ]
  },
  {
   "cell_type": "markdown",
   "metadata": {},
   "source": [
    "# 8."
   ]
  },
  {
   "cell_type": "code",
   "execution_count": null,
   "metadata": {},
   "outputs": [],
   "source": [
    "def no_repetidos(lista_1:list, lista_2:list):\n",
    "    c = lista_1.copy()\n",
    "    for element in lista_1:\n",
    "        for i in range(len(lista_2)):\n",
    "            if element == lista_2[i]:\n",
    "                c.remove(element)\n",
    "                break\n",
    "            else:\n",
    "                continue\n",
    "    return (f\"los elementos que estan en {lista_1} y no en {lista_2} son: {c}\")\n",
    "\n",
    "if __name__ == \"__main__\":\n",
    "    try:\n",
    "        A = [1, \"a\", 34, \"14\"]\n",
    "        B = [\"a\", 34, 128, 14]\n",
    "        no_repeat = no_repetidos(A, B)\n",
    "        print(no_repeat)\n",
    "    except ValueError:\n",
    "        print(\"algun caracter ingresado no es valido...\")"
   ]
  },
  {
   "cell_type": "markdown",
   "metadata": {},
   "source": [
    "# 10."
   ]
  },
  {
   "cell_type": "code",
   "execution_count": null,
   "metadata": {},
   "outputs": [],
   "source": [
    "def multiplo_3(lista:list) -> list:\n",
    "    new_list = [-x if x < 0 else x for x in lista if x%3==0] \n",
    "    return new_list if len(new_list) >= 1 else \"No hay multiplos de 3 en el arreglo\"\n",
    "\n",
    "if __name__ == \"__main__\":\n",
    "\t\n",
    "    A = [1, 2, 4, 8]\n",
    "    B = [0, 3, 6, 9, 12, -15, 8,-999999, 10842630]\n",
    "\n",
    "    ej_A = multiplo_3(A)\n",
    "    print(ej_A) \n",
    "    ej_B = multiplo_3(B)\n",
    "    print(ej_B) "
   ]
  },
  {
   "cell_type": "markdown",
   "metadata": {},
   "source": [
    "### Reto..."
   ]
  },
  {
   "cell_type": "code",
   "execution_count": null,
   "metadata": {},
   "outputs": [],
   "source": [
    "def separar_digitos(numero) -> list: # Se utiliza la funcion de separar digitos ya declarada anteriormente\n",
    "    digitos = []\n",
    "    if numero < 0:\n",
    "        numero = -numero\n",
    "    while numero > 0:\n",
    "        digito = numero % 10\n",
    "        digitos.insert(0, digito)  \n",
    "        numero = numero // 10\n",
    "    return digitos\n",
    "\n",
    "def multiplo(lista:list) -> list:\n",
    "\n",
    "    new_list = []\n",
    "    for element in lista:\n",
    "        digitos : list = separar_digitos(element)\n",
    "        suma : int= 0\n",
    "        for number in digitos:\n",
    "            suma += number\n",
    "        while suma >= 3: \n",
    "            suma -= 3\n",
    "            if suma == 0: \n",
    "                new_list.append(element)\n",
    "            \n",
    "    return new_list if len(new_list) >=1 else \"No hay multiplos de 3 en el arreglo\"\n",
    "            \n",
    "if __name__ == \"__main__\":\n",
    "    A = [1, 2, 4, 8]\n",
    "    B = [0, 3, 6, 9, -12, 15, 8, 999999]\n",
    "\n",
    "    ej_A = multiplo(A)\n",
    "    print(ej_A)\n",
    "\n",
    "    ej_B = multiplo(B)\n",
    "    print(ej_B)"
   ]
  }
 ],
 "metadata": {
  "kernelspec": {
   "display_name": "Python 3",
   "language": "python",
   "name": "python3"
  },
  "language_info": {
   "codemirror_mode": {
    "name": "ipython",
    "version": 3
   },
   "file_extension": ".py",
   "mimetype": "text/x-python",
   "name": "python",
   "nbconvert_exporter": "python",
   "pygments_lexer": "ipython3",
   "version": "3.11.9"
  }
 },
 "nbformat": 4,
 "nbformat_minor": 2
}
